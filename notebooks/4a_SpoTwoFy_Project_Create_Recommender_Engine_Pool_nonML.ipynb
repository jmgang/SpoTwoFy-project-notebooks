{
  "cells": [
    {
      "cell_type": "markdown",
      "metadata": {
        "id": "view-in-github",
        "colab_type": "text"
      },
      "source": [
        "<a href=\"https://colab.research.google.com/github/jmgang/SpoTwoFy-project-notebooks/blob/main/notebooks/4a_SpoTwoFy_Project_Create_Recommender_Engine_Pool_nonML.ipynb\" target=\"_parent\"><img src=\"https://colab.research.google.com/assets/colab-badge.svg\" alt=\"Open In Colab\"/></a>"
      ]
    },
    {
      "cell_type": "markdown",
      "metadata": {
        "id": "Y_Yv2qJc33F-"
      },
      "source": [
        "# Creating a Recommender Engine Pool"
      ]
    },
    {
      "cell_type": "markdown",
      "metadata": {
        "ExecuteTime": {
          "end_time": "2021-12-30T11:40:36.594547Z",
          "start_time": "2021-12-30T11:40:36.587554Z"
        },
        "id": "PMwNeMba33F_"
      },
      "source": [
        "*What is a recommender engine?*\n",
        "\n",
        "A recommender engine is an information filtering system that predicts a user's preferences for a set of items (such as products, movies, or music) based on their previous interactions with those items or similar items, and provides personalized recommendations for new items.\n",
        "\n",
        "*What is a recommender engine pool?*\n",
        "\n",
        "The recommender engine pool is the data source from which the recommender engine gets its recommendations. It is made up of the (1) items considered for the recommendation and (2) measure/s that determines its fitness to be recommended.\n",
        "\n",
        "| item | measure1 | measure2 |  \n",
        "|------|----------|----------|\n",
        "| 1    | 0.1      | 0.5      |  \n",
        "| 2    | 0.2      | 0.6      |\n",
        "| 3    | 0.3      | 0.7      |\n",
        "\n",
        "\n",
        "In this notebook, we will create a track recommendation pool from the daily top 200 tracks data and generate track recommendations for a sample track."
      ]
    },
    {
      "cell_type": "code",
      "execution_count": 2,
      "metadata": {
        "ExecuteTime": {
          "end_time": "2022-10-04T11:07:51.580288Z",
          "start_time": "2022-10-04T11:07:50.503970Z"
        },
        "id": "F2SC1hmW33F_"
      },
      "outputs": [],
      "source": [
        "import pandas as pd\n",
        "import numpy as np\n",
        "from tqdm import tqdm\n",
        "import joblib # joblib==1.2.0, install if needed"
      ]
    },
    {
      "cell_type": "code",
      "source": [
        "# Mount GDrive folders\n",
        "from google.colab import drive\n",
        "drive.mount('/content/drive')"
      ],
      "metadata": {
        "id": "s2BcC9l_39LZ",
        "colab": {
          "base_uri": "https://localhost:8080/"
        },
        "outputId": "a535f9a4-8149-4d5e-9575-2e4a4aaad0d8"
      },
      "execution_count": 3,
      "outputs": [
        {
          "output_type": "stream",
          "name": "stdout",
          "text": [
            "Mounted at /content/drive\n"
          ]
        }
      ]
    },
    {
      "cell_type": "code",
      "source": [
        "# Set home directory\n",
        "import os\n",
        "home_dir = \"/content/drive/MyDrive/Colab Notebooks/Sprint 3/\"\n",
        "os.chdir(home_dir)"
      ],
      "metadata": {
        "id": "XolRIy2f39I_"
      },
      "execution_count": 4,
      "outputs": []
    },
    {
      "cell_type": "code",
      "source": [
        "DATA_DIRECTORY = 'https://raw.githubusercontent.com/jmgang/SpoTwoFy-project-notebooks/main/data/'"
      ],
      "metadata": {
        "id": "lW5S14A4E5RG"
      },
      "execution_count": 5,
      "outputs": []
    },
    {
      "cell_type": "code",
      "source": [
        "def load_playlist_data(genre_names):\n",
        "    playlist_df_list = []\n",
        "    for genre in tqdm(genre_names):\n",
        "        filename = DATA_DIRECTORY + 'playlists/' + genre.lower() + '_playlist_data.csv'\n",
        "        print(filename)\n",
        "        pdf = pd.read_csv(filename)\n",
        "        pdf['genre'] = genre.lower()\n",
        "        playlist_df_list.append(pdf)\n",
        "    return pd.concat(playlist_df_list)"
      ],
      "metadata": {
        "id": "9Ioe-eHJJfL3"
      },
      "execution_count": 6,
      "outputs": []
    },
    {
      "cell_type": "code",
      "source": [
        "def load_track_data(genre_names):\n",
        "    track_df_list = []\n",
        "    for genre in tqdm(genre_names):\n",
        "        filename = DATA_DIRECTORY + 'playlists/' + genre.lower() + '_playlist_tracks_data.csv'\n",
        "        tdf = pd.read_csv(filename)\n",
        "        tdf = tdf[~tdf.duplicated(subset=['track_id'])]  # Remove duplicates based on 'track_id'\n",
        "        tdf['genre'] = genre.lower()\n",
        "        track_df_list.append(tdf)\n",
        "    return pd.concat(track_df_list)"
      ],
      "metadata": {
        "id": "2yGZ6faNJpcu"
      },
      "execution_count": 7,
      "outputs": []
    },
    {
      "cell_type": "markdown",
      "metadata": {
        "id": "dP6MXGGd33F_"
      },
      "source": [
        "## 1. Read data"
      ]
    },
    {
      "cell_type": "markdown",
      "metadata": {
        "id": "VFQASlK933F_"
      },
      "source": [
        "Read playlist data"
      ]
    },
    {
      "cell_type": "code",
      "execution_count": 8,
      "metadata": {
        "id": "_OCNFQi533GA",
        "colab": {
          "base_uri": "https://localhost:8080/"
        },
        "outputId": "a7cf2376-d304-4602-f2be-1dd52230a666"
      },
      "outputs": [
        {
          "output_type": "stream",
          "name": "stderr",
          "text": [
            "\r  0%|          | 0/3 [00:00<?, ?it/s]"
          ]
        },
        {
          "output_type": "stream",
          "name": "stdout",
          "text": [
            "https://raw.githubusercontent.com/jmgang/SpoTwoFy-project-notebooks/main/data/playlists/alternative_rock_playlist_data.csv\n"
          ]
        },
        {
          "output_type": "stream",
          "name": "stderr",
          "text": [
            " 67%|██████▋   | 2/3 [00:00<00:00,  2.78it/s]"
          ]
        },
        {
          "output_type": "stream",
          "name": "stdout",
          "text": [
            "https://raw.githubusercontent.com/jmgang/SpoTwoFy-project-notebooks/main/data/playlists/pop_playlist_data.csv\n",
            "https://raw.githubusercontent.com/jmgang/SpoTwoFy-project-notebooks/main/data/playlists/sad_opm_playlist_data.csv\n"
          ]
        },
        {
          "output_type": "stream",
          "name": "stderr",
          "text": [
            "100%|██████████| 3/3 [00:00<00:00,  3.08it/s]\n"
          ]
        }
      ],
      "source": [
        "# chart_tracks_df = pd.read_csv('data/ph_spotify_daily_charts_tracks.csv')\n",
        "# chart_tracks_df.head()\n",
        "\n",
        "genre_names = ['alternative_rock', 'pop', 'sad_opm']\n",
        "playlist_df = load_playlist_data(genre_names)"
      ]
    },
    {
      "cell_type": "markdown",
      "source": [
        "Read tracks data"
      ],
      "metadata": {
        "id": "ZdTP1SLrKJ1N"
      }
    },
    {
      "cell_type": "code",
      "source": [
        "tracks_df = load_track_data(genre_names)"
      ],
      "metadata": {
        "colab": {
          "base_uri": "https://localhost:8080/"
        },
        "id": "SfH0qZAEKJZ9",
        "outputId": "cfb79a36-311d-476c-a75f-00ee071b2862"
      },
      "execution_count": 9,
      "outputs": [
        {
          "output_type": "stream",
          "name": "stderr",
          "text": [
            "100%|██████████| 3/3 [00:01<00:00,  2.33it/s]\n"
          ]
        }
      ]
    },
    {
      "cell_type": "markdown",
      "metadata": {
        "id": "C9tDpQow33GA"
      },
      "source": [
        "Remove tracks with no available/incomplete audio features"
      ]
    },
    {
      "cell_type": "code",
      "execution_count": 10,
      "metadata": {
        "id": "HQ-HgxHa33GA",
        "colab": {
          "base_uri": "https://localhost:8080/"
        },
        "outputId": "3a3f0e75-3a05-40eb-e4f2-f499f09a6997"
      },
      "outputs": [
        {
          "output_type": "stream",
          "name": "stdout",
          "text": [
            "11977\n",
            "11977\n"
          ]
        }
      ],
      "source": [
        "print(len(tracks_df))\n",
        "tracks_df = tracks_df.dropna()\n",
        "print(len(tracks_df))"
      ]
    },
    {
      "cell_type": "markdown",
      "metadata": {
        "id": "hmFubXQI33GA"
      },
      "source": [
        "Remove duplicate tracks"
      ]
    },
    {
      "cell_type": "code",
      "execution_count": 11,
      "metadata": {
        "id": "ioaxhW-w33GA",
        "colab": {
          "base_uri": "https://localhost:8080/"
        },
        "outputId": "1f321fbc-0f60-432b-8380-13c2ce44efac"
      },
      "outputs": [
        {
          "output_type": "stream",
          "name": "stdout",
          "text": [
            "11977\n",
            "10305\n"
          ]
        }
      ],
      "source": [
        "print(len(tracks_df))\n",
        "tracks_df = tracks_df.drop_duplicates(subset=['artist_id','track_name'])\n",
        "print(len(tracks_df))"
      ]
    },
    {
      "cell_type": "markdown",
      "metadata": {
        "id": "SdJJqgKk33GB"
      },
      "source": [
        "## 5. Save recommender engine pool"
      ]
    },
    {
      "cell_type": "code",
      "execution_count": 12,
      "metadata": {
        "ExecuteTime": {
          "end_time": "2022-10-04T11:58:22.902501Z",
          "start_time": "2022-10-04T11:58:22.807097Z"
        },
        "id": "5KNBU34v33GB",
        "colab": {
          "base_uri": "https://localhost:8080/",
          "height": 17
        },
        "outputId": "d1bd94f4-3e7b-4c6e-9c91-903d7f514677"
      },
      "outputs": [
        {
          "output_type": "display_data",
          "data": {
            "text/plain": [
              "<IPython.core.display.Javascript object>"
            ],
            "application/javascript": [
              "\n",
              "    async function download(id, filename, size) {\n",
              "      if (!google.colab.kernel.accessAllowed) {\n",
              "        return;\n",
              "      }\n",
              "      const div = document.createElement('div');\n",
              "      const label = document.createElement('label');\n",
              "      label.textContent = `Downloading \"${filename}\": `;\n",
              "      div.appendChild(label);\n",
              "      const progress = document.createElement('progress');\n",
              "      progress.max = size;\n",
              "      div.appendChild(progress);\n",
              "      document.body.appendChild(div);\n",
              "\n",
              "      const buffers = [];\n",
              "      let downloaded = 0;\n",
              "\n",
              "      const channel = await google.colab.kernel.comms.open(id);\n",
              "      // Send a message to notify the kernel that we're ready.\n",
              "      channel.send({})\n",
              "\n",
              "      for await (const message of channel.messages) {\n",
              "        // Send a message to notify the kernel that we're ready.\n",
              "        channel.send({})\n",
              "        if (message.buffers) {\n",
              "          for (const buffer of message.buffers) {\n",
              "            buffers.push(buffer);\n",
              "            downloaded += buffer.byteLength;\n",
              "            progress.value = downloaded;\n",
              "          }\n",
              "        }\n",
              "      }\n",
              "      const blob = new Blob(buffers, {type: 'application/binary'});\n",
              "      const a = document.createElement('a');\n",
              "      a.href = window.URL.createObjectURL(blob);\n",
              "      a.download = filename;\n",
              "      div.appendChild(a);\n",
              "      a.click();\n",
              "      div.remove();\n",
              "    }\n",
              "  "
            ]
          },
          "metadata": {}
        },
        {
          "output_type": "display_data",
          "data": {
            "text/plain": [
              "<IPython.core.display.Javascript object>"
            ],
            "application/javascript": [
              "download(\"download_b0ad6397-97f3-4aa2-9066-8fd568cf87af\", \"spotify_tracks_no_ml_rec_pool.csv\", 2760217)"
            ]
          },
          "metadata": {}
        }
      ],
      "source": [
        "# save data\n",
        "tracks_df.to_csv(\"data/spotify_tracks_hale_no_ml_rec_pool.csv\", index=False, encoding='utf-8')\n",
        "# from google.colab import files\n",
        "# files.download('spotify_tracks_no_ml_rec_pool.csv')"
      ]
    }
  ],
  "metadata": {
    "kernelspec": {
      "display_name": "Python 3 (ipykernel)",
      "language": "python",
      "name": "python3"
    },
    "language_info": {
      "codemirror_mode": {
        "name": "ipython",
        "version": 3
      },
      "file_extension": ".py",
      "mimetype": "text/x-python",
      "name": "python",
      "nbconvert_exporter": "python",
      "pygments_lexer": "ipython3",
      "version": "3.9.0"
    },
    "colab": {
      "provenance": [],
      "include_colab_link": true
    }
  },
  "nbformat": 4,
  "nbformat_minor": 0
}