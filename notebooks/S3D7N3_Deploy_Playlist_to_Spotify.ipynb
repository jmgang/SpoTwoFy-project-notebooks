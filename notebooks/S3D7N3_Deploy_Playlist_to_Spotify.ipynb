{
  "cells": [
    {
      "cell_type": "markdown",
      "metadata": {
        "id": "view-in-github",
        "colab_type": "text"
      },
      "source": [
        "<a href=\"https://colab.research.google.com/github/jmgang/SpoTwoFy-project-notebooks/blob/main/notebooks/S3D7N3_Deploy_Playlist_to_Spotify.ipynb\" target=\"_parent\"><img src=\"https://colab.research.google.com/assets/colab-badge.svg\" alt=\"Open In Colab\"/></a>"
      ]
    },
    {
      "cell_type": "markdown",
      "metadata": {
        "id": "vtCscwsq34Ph"
      },
      "source": [
        "# Deploy Playlist to Spotify\n",
        "\n",
        "This notebook shows how to deploy the recommender engine generated tracks as a playlist in Spotify using `spotipy` module."
      ]
    },
    {
      "cell_type": "code",
      "execution_count": null,
      "metadata": {
        "id": "C-4TVXX7nQxL"
      },
      "outputs": [],
      "source": [
        "# !pip install spotipy"
      ]
    },
    {
      "cell_type": "code",
      "execution_count": null,
      "metadata": {
        "ExecuteTime": {
          "end_time": "2021-06-01T13:37:09.010248Z",
          "start_time": "2021-06-01T13:37:08.426087Z"
        },
        "id": "N_LFRHJ034Pj"
      },
      "outputs": [],
      "source": [
        "import spotipy\n",
        "from spotipy.oauth2 import SpotifyClientCredentials, SpotifyOAuth\n",
        "\n",
        "import getpass\n",
        "import time"
      ]
    },
    {
      "cell_type": "markdown",
      "metadata": {
        "id": "6hAXlG5-34Pj"
      },
      "source": [
        "## Setup credentials"
      ]
    },
    {
      "cell_type": "code",
      "execution_count": null,
      "metadata": {
        "colab": {
          "base_uri": "https://localhost:8080/"
        },
        "id": "BSzEiJKm4RQg",
        "outputId": "dab1e4a8-4dcf-46a5-8e14-8d8258121da9"
      },
      "outputs": [
        {
          "name": "stdin",
          "output_type": "stream",
          "text": [
            "Enter Spotify app client id:  ········\n"
          ]
        }
      ],
      "source": [
        "client_id = getpass.getpass(prompt='Enter Spotify app client id: ')"
      ]
    },
    {
      "cell_type": "code",
      "execution_count": null,
      "metadata": {
        "colab": {
          "base_uri": "https://localhost:8080/"
        },
        "id": "8QlheYl64Tq9",
        "outputId": "512e2697-0fdd-4889-c181-fc49055b7164"
      },
      "outputs": [
        {
          "name": "stdin",
          "output_type": "stream",
          "text": [
            "Enter Spotify app client secret:  ········\n"
          ]
        }
      ],
      "source": [
        "client_secret = getpass.getpass(prompt='Enter Spotify app client secret: ')"
      ]
    },
    {
      "cell_type": "markdown",
      "metadata": {
        "id": "SSIDFpIFPL_d"
      },
      "source": [
        "HOWTO find your Spotify username:\n",
        "1.  Head to open.spotify.com and log in with your account details\n",
        "2.  Click the 👤 icon -> Account\n",
        "3. A new tab should open. Under Account, click Edit Profile\n",
        "4. Username is the first field, on top of the email field.\n",
        "\n",
        "Copy your username and replace the string below"
      ]
    },
    {
      "cell_type": "code",
      "execution_count": null,
      "metadata": {
        "id": "lol8Tl4X4fY4"
      },
      "outputs": [],
      "source": [
        "### MODIFY THIS\n",
        "username = '-----'\n",
        "###\n",
        "redirect_uri='http://localhost:8081/'\n",
        "scope = \"user-library-modify playlist-modify-public\""
      ]
    },
    {
      "cell_type": "code",
      "execution_count": null,
      "metadata": {
        "id": "TFIvAnOSMd6_"
      },
      "outputs": [],
      "source": [
        "# Authenticate with Spotify\n",
        "sp = spotipy.Spotify(auth_manager=SpotifyOAuth(client_id=client_id,\n",
        "                                               client_secret=client_secret,\n",
        "                                               redirect_uri=redirect_uri,\n",
        "                                               scope=scope, open_browser=False))\n"
      ]
    },
    {
      "cell_type": "markdown",
      "metadata": {
        "id": "28Uddjzq34Pk"
      },
      "source": [
        "## Add track ids from recommender engine\n",
        "Replace this with most recent track id recommendations"
      ]
    },
    {
      "cell_type": "code",
      "execution_count": null,
      "metadata": {
        "ExecuteTime": {
          "end_time": "2021-06-01T13:40:16.863170Z",
          "start_time": "2021-06-01T13:40:16.840867Z"
        },
        "id": "AA-r2XWe34Pk"
      },
      "outputs": [],
      "source": [
        "### MODIFY THIS: SentimentML:\n",
        "seed_track = 'The Day You Said Goodnight'\n",
        "track_id_list = ['3gkwEytdCYIsrFdfEE2ALW', '0luyrm1L6gjtoLekHOf67t',\n",
        "       '5XPsSVX2R3enPamRURMq3W', '2Seb4aijY1t46OorUZdsGE',\n",
        "       '6BxJLJw228OY5BFerPGl7z', '1IJzTK9cWDCEOqdSHdJB5j',\n",
        "       '5pp9zZxgRAKHX2IZcjolxQ', '5ZjZSpcPrvIEdH4GbAy3yx',\n",
        "       '2fLL9lFVduAN0QHgbQ5oSV', '4SQ3HwsAiGTikY7gOAybwH']\n",
        "###"
      ]
    },
    {
      "cell_type": "markdown",
      "metadata": {
        "id": "yhGImDNS34Pk"
      },
      "source": [
        "## Deploy playlist to Spotify\n",
        "\n",
        "\n"
      ]
    },
    {
      "cell_type": "markdown",
      "metadata": {
        "id": "SnouJc-aQKIp"
      },
      "source": [
        "### 1. Create new playlist\n",
        "**IMPORTANT:** To run next cell:\n",
        "1. Click the URL after \"Go to the following URL\". It should open a new tab\n",
        "2. Go to that new tab. It should be a blank webpage.\n",
        "3. Copy the URL and past it in the prompt box after \"Enter the URL you were redirected to:\"\n",
        "\n",
        "If successful, cell below would return the new playlist data in the usual JSON output format\n"
      ]
    },
    {
      "cell_type": "code",
      "execution_count": null,
      "metadata": {
        "ExecuteTime": {
          "end_time": "2021-06-01T13:41:13.124540Z",
          "start_time": "2021-06-01T13:41:12.770371Z"
        },
        "colab": {
          "base_uri": "https://localhost:8080/",
          "height": 497
        },
        "id": "AYNsQS3E34Pk",
        "outputId": "23cc7dd3-8fd9-40c9-9eee-c51e406fa60b"
      },
      "outputs": [
        {
          "name": "stdin",
          "output_type": "stream",
          "text": [
            "Go to the following URL: https://accounts.spotify.com/authorize?client_id=e3329e82215b4b4b91974f7cca2945f4&response_type=code&redirect_uri=http%3A%2F%2Flocalhost%3A8081%2F&scope=user-library-modify+playlist-modify-public\n",
            "Enter the URL you were redirected to:  http://localhost:8081/?code=AQAaJ82gTTWYJlw50XV6F7g406kftCkCVq6ql5nk0SIoaKEBNIf4Zak2wnlOvtrQpuo8qEHEPMwKwHqR8IV1u4U4xe5wL--43Zr5lwCgAkskCIAMU7s1OChsQ8awJ54EE4m6voF4Yyoz1MfRMnm6BA1_w1H2HaINCgBTJwOvGQu_VQViqow5fv7oxLqRbWPmbIGPMAwKSA98XTwvnskMqNJ1ifcSKQ8\n"
          ]
        },
        {
          "data": {
            "text/plain": [
              "{'collaborative': False,\n",
              " 'description': '',\n",
              " 'external_urls': {'spotify': 'https://open.spotify.com/playlist/2QdXqMsFJHytqpBcrHxHWK'},\n",
              " 'followers': {'href': None, 'total': 0},\n",
              " 'href': 'https://api.spotify.com/v1/playlists/2QdXqMsFJHytqpBcrHxHWK',\n",
              " 'id': '2QdXqMsFJHytqpBcrHxHWK',\n",
              " 'images': [],\n",
              " 'name': 'Eskwelabs: ExpandedML Sentiment-based Recommendations for The Day You Said Goodnight',\n",
              " 'owner': {'display_name': 'Gaea Marie',\n",
              "  'external_urls': {'spotify': 'https://open.spotify.com/user/12142787311'},\n",
              "  'href': 'https://api.spotify.com/v1/users/12142787311',\n",
              "  'id': '12142787311',\n",
              "  'type': 'user',\n",
              "  'uri': 'spotify:user:12142787311'},\n",
              " 'primary_color': None,\n",
              " 'public': True,\n",
              " 'snapshot_id': 'MSxlMWI1ZTRkYmJhNmU0ODJlYTA5Y2M4ZjAyMjYwMGYxOTcxNWM0MTE3',\n",
              " 'tracks': {'href': 'https://api.spotify.com/v1/playlists/2QdXqMsFJHytqpBcrHxHWK/tracks',\n",
              "  'items': [],\n",
              "  'limit': 100,\n",
              "  'next': None,\n",
              "  'offset': 0,\n",
              "  'previous': None,\n",
              "  'total': 0},\n",
              " 'type': 'playlist',\n",
              " 'uri': 'spotify:playlist:2QdXqMsFJHytqpBcrHxHWK'}"
            ]
          },
          "execution_count": 8,
          "metadata": {},
          "output_type": "execute_result"
        }
      ],
      "source": [
        "new_playlist_name = f\"Eskwelabs: Sentiment-based Recommendations for {seed_track}\"\n",
        "new_playlist = sp.user_playlist_create(username, name=new_playlist_name)\n",
        "new_playlist"
      ]
    },
    {
      "cell_type": "code",
      "execution_count": null,
      "metadata": {
        "ExecuteTime": {
          "end_time": "2021-06-01T13:42:08.088927Z",
          "start_time": "2021-06-01T13:42:08.061846Z"
        },
        "id": "6oCKRI5K34Pl",
        "outputId": "7b76602e-0326-4acc-8a30-0293e2c044e3"
      },
      "outputs": [
        {
          "data": {
            "text/plain": [
              "'2QdXqMsFJHytqpBcrHxHWK'"
            ]
          },
          "execution_count": 9,
          "metadata": {},
          "output_type": "execute_result"
        }
      ],
      "source": [
        "new_playlist['id']"
      ]
    },
    {
      "cell_type": "markdown",
      "metadata": {
        "id": "PMtS_Ar6QCw-"
      },
      "source": [
        "### 2. Add tracks to the newly created playlist"
      ]
    },
    {
      "cell_type": "code",
      "execution_count": null,
      "metadata": {
        "ExecuteTime": {
          "end_time": "2021-06-01T13:42:47.007584Z",
          "start_time": "2021-06-01T13:42:46.829631Z"
        },
        "id": "KHWcKe3K34Pl",
        "outputId": "3c5b61d2-66ff-40db-e201-6d81c099822d"
      },
      "outputs": [
        {
          "data": {
            "text/plain": [
              "{'snapshot_id': 'Miw2NzNjOTRmZDVmY2RjOTg1MWZlNzI1NjM2ZGFjN2UxZDk0MWM3MDQ3'}"
            ]
          },
          "execution_count": 10,
          "metadata": {},
          "output_type": "execute_result"
        }
      ],
      "source": [
        "playlist_id=new_playlist['id']\n",
        "sp.user_playlist_add_tracks(username, playlist_id, track_id_list)"
      ]
    }
  ],
  "metadata": {
    "colab": {
      "provenance": [],
      "toc_visible": true,
      "include_colab_link": true
    },
    "kernelspec": {
      "display_name": "Python 3 (ipykernel)",
      "language": "python",
      "name": "python3"
    },
    "language_info": {
      "codemirror_mode": {
        "name": "ipython",
        "version": 3
      },
      "file_extension": ".py",
      "mimetype": "text/x-python",
      "name": "python",
      "nbconvert_exporter": "python",
      "pygments_lexer": "ipython3",
      "version": "3.9.18"
    }
  },
  "nbformat": 4,
  "nbformat_minor": 0
}